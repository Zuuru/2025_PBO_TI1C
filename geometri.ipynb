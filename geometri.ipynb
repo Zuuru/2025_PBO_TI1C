{
  "nbformat": 4,
  "nbformat_minor": 0,
  "metadata": {
    "colab": {
      "provenance": [],
      "authorship_tag": "ABX9TyOKf1vvGjzQM//K99R3AnYC",
      "include_colab_link": true
    },
    "kernelspec": {
      "name": "python3",
      "display_name": "Python 3"
    },
    "language_info": {
      "name": "python"
    }
  },
  "cells": [
    {
      "cell_type": "markdown",
      "metadata": {
        "id": "view-in-github",
        "colab_type": "text"
      },
      "source": [
        "<a href=\"https://colab.research.google.com/github/Zuuru/2025_PBO_TI1C/blob/main/geometri.ipynb\" target=\"_parent\"><img src=\"https://colab.research.google.com/assets/colab-badge.svg\" alt=\"Open In Colab\"/></a>"
      ]
    },
    {
      "cell_type": "code",
      "execution_count": 1,
      "metadata": {
        "id": "rT3y0oAOQO_O"
      },
      "outputs": [],
      "source": [
        "# Modul geometri.py berisi fungsi terkait geometri\n",
        "\n",
        "def hitung_luas_persegi(sisi):\n",
        "    return sisi * sisi\n",
        "\n",
        "def hitung_luas_persegi_panjang(panjang, lebar):\n",
        "    return panjang * lebar\n",
        "\n",
        "def hitung_luas_lingkaran(jari_jari):\n",
        "    return 3.14 * (jari_jari ** 2)\n",
        "\n",
        "def hello_pray():\n",
        "    return \"Echo hallo pray\""
      ]
    }
  ]
}