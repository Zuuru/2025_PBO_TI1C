{
  "nbformat": 4,
  "nbformat_minor": 0,
  "metadata": {
    "colab": {
      "provenance": [],
      "authorship_tag": "ABX9TyO3NWmwBLXhaDQXC61QXkrZ",
      "include_colab_link": true
    },
    "kernelspec": {
      "name": "python3",
      "display_name": "Python 3"
    },
    "language_info": {
      "name": "python"
    }
  },
  "cells": [
    {
      "cell_type": "markdown",
      "metadata": {
        "id": "view-in-github",
        "colab_type": "text"
      },
      "source": [
        "<a href=\"https://colab.research.google.com/github/Zuuru/2025_PBO_TI1C/blob/main/BMI.ipynb\" target=\"_parent\"><img src=\"https://colab.research.google.com/assets/colab-badge.svg\" alt=\"Open In Colab\"/></a>"
      ]
    },
    {
      "cell_type": "code",
      "execution_count": null,
      "metadata": {
        "colab": {
          "base_uri": "https://localhost:8080/"
        },
        "id": "09WPr26AoblD",
        "outputId": "fad7a14c-78fe-4cc6-fee3-a56bcea1b861"
      },
      "outputs": [
        {
          "output_type": "stream",
          "name": "stdout",
          "text": [
            "Program Body Mass Index\n",
            "Masukkan Berat Badanmu (dalam kg): 90\n",
            "Masukkan tinggi Badanmu (dalam meter(m)): 1.7\n",
            "\n",
            "Body Mass Index Kamu : 31.14186851211073\n",
            "Kamu Obesitas\n",
            "Apakah Kamu Mau Keluar ? Y/N : n\n",
            "Program Body Mass Index\n"
          ]
        }
      ],
      "source": [
        "import os\n",
        "\n",
        "\n",
        "while True:\n",
        "    os.system(\"cls\")\n",
        "    print(\"Program Body Mass Index\")\n",
        "\n",
        "    while True:\n",
        "        try:\n",
        "            berat = float(input(\"Masukkan Berat Badanmu (dalam kg): \"))\n",
        "            tinggi = float(input(\"Masukkan tinggi Badanmu (dalam meter(m)): \"))\n",
        "            break\n",
        "        except:\n",
        "            print(\"Input Tidak Valid,Silahkan Masukkan Input Berupa Angka!!!\")\n",
        "\n",
        "    mbi = berat/tinggi**2\n",
        "    print(f\"\\nBody Mass Index Kamu : {mbi}\")\n",
        "    if mbi < 18.5:\n",
        "        print(\"Berat Badan Kamu Kurang (Underweight)\")\n",
        "    elif mbi >= 18.5 and mbi < 25:\n",
        "        print(\"Berat Badan Kamu Normal\")\n",
        "    elif mbi >= 25 and mbi < 30:\n",
        "        print(\"Berat Badan Kamu Berlebih (Overweight)\")\n",
        "    else:\n",
        "        print(\"Kamu Obesitas\")\n",
        "    keluar = input(\"Apakah Kamu Mau Keluar ? Y/N : \")\n",
        "    if keluar == \"Y\" or keluar == \"y\":\n",
        "        break\n",
        "print(\"Hiduplah dengan pola hidup sehat\")\n",
        "\n",
        "\n"
      ]
    }
  ]
}