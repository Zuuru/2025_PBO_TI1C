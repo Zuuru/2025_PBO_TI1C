{
  "nbformat": 4,
  "nbformat_minor": 0,
  "metadata": {
    "colab": {
      "provenance": [],
      "authorship_tag": "ABX9TyMB7N/ElnJgszDpwzHBV8gT",
      "include_colab_link": true
    },
    "kernelspec": {
      "name": "python3",
      "display_name": "Python 3"
    },
    "language_info": {
      "name": "python"
    }
  },
  "cells": [
    {
      "cell_type": "markdown",
      "metadata": {
        "id": "view-in-github",
        "colab_type": "text"
      },
      "source": [
        "<a href=\"https://colab.research.google.com/github/Zuuru/2025_PBO_TI1C/blob/main/jobsheet%204.ipynb\" target=\"_parent\"><img src=\"https://colab.research.google.com/assets/colab-badge.svg\" alt=\"Open In Colab\"/></a>"
      ]
    },
    {
      "cell_type": "markdown",
      "source": [
        "Praktikum 01"
      ],
      "metadata": {
        "id": "QETqRLoGbcxY"
      }
    },
    {
      "cell_type": "code",
      "execution_count": 1,
      "metadata": {
        "id": "kZOhMMUhWhDy",
        "outputId": "c8b36c20-c8f8-4502-b54b-05971d1ffac1",
        "colab": {
          "base_uri": "https://localhost:8080/"
        }
      },
      "outputs": [
        {
          "output_type": "stream",
          "name": "stdout",
          "text": [
            "Ini adalah Mobil (self.merk) bewarna (self.warna)\n",
            "Mesin kendaraan Tesla Model S dinyalakan.\n",
            "Merk Mobil Tesla: Tesla Model S\n"
          ]
        }
      ],
      "source": [
        "#kelas induk\n",
        "class Kendaraan:\n",
        "  def __init__(self, merk):\n",
        "      self.merk = merk\n",
        "  def mulai_mesin(self):\n",
        "      print(f\"Mesin kendaraan {self.merk} dinyalakan.\")\n",
        "\n",
        "#Kelas Anak (mewarisi dari kendaraan)\n",
        "class Mobil(Kendaraan):\n",
        "  def __init__(self, merk, warna):\n",
        "    # Memanggil _init_kelas induk\n",
        "    self.merk = merk #mewarisi 'merk' tetapi di-set ulang\n",
        "    self.warna = warna #atriubut khusus mobil\n",
        "  def info_mobil(self):\n",
        "    print(f\"Ini adalah Mobil (self.merk) bewarna (self.warna)\")\n",
        "\n",
        "#----Kode utama ----\n",
        "if __name__ == \"__main__\":\n",
        "  mobil_tesla = Mobil (\"Tesla Model S\", \"Merah\")\n",
        "\n",
        "  #memanggil metode yang diwarisi dari anak\n",
        "  mobil_tesla.info_mobil()\n",
        "\n",
        "  #memanggil metode yang diwarisi dari kelas induk\n",
        "  mobil_tesla.mulai_mesin()\n",
        "  #mengakses atribut yang diwarisi (dan di set di anak)\n",
        "  print(f\"Merk Mobil Tesla: {mobil_tesla.merk}\")\n"
      ]
    },
    {
      "cell_type": "markdown",
      "source": [
        "Praktikum 02"
      ],
      "metadata": {
        "id": "AWvyo9OAhHhx"
      }
    },
    {
      "cell_type": "code",
      "source": [
        "#Kelas induk\n",
        "class Person:\n",
        "  def __init__(self, nama, usia):\n",
        "    print(f\"()Memanngil __init__ Person untuk ''{nama}\")\n",
        "    self.nama = nama\n",
        "    self.usia = usia\n",
        "\n",
        "  def perkenalan_diri(self):\n",
        "    print(f\"Halo, nama saya {self.nama}, usia saya {self.usia} tahun\")\n",
        "\n",
        "#Kelas Anak (mewarisi dari Person)\n",
        "class Student(Person):\n",
        "  def __init__(self, nama, usia, student_id, jurusan):\n",
        "    print(f\"Memanggil __init__ Student untuk '{nama}' \")\n",
        "    #Memanggil __init__ dari kelas Person untuk inisialisasi nama dan usi\n",
        "    super().__init__(nama, usia)\n",
        "    #Menambahkan atribut khusus Student\n",
        "    self.student_id = student_id\n",
        "    self.jurusan = jurusan\n",
        "    print(f\"(Inisialisasi atribut Student selesai untuk '{nama}')\")\n",
        "  def info_akademik(self):\n",
        "    print(f\"ID Mahasiswa: {self.student_id}\")\n",
        "    print(f\"Jurusan: {self.jurusan}\")\n",
        "\n",
        "#Override perkenalan diri untuk menambahkan info student\n",
        "def perkenalkan_diri(self):\n",
        "  super().perkenalan_diri()\n",
        "  print(f\"Saya adalah mahasiswa dengan ID {self.student_id}, jurusan {self.jurusan}.\")\n",
        "\n",
        "# --- Kode Utama ---\n",
        "if __name__ == \"__main__\":\n",
        "  #membuat objek person\n",
        "  dosen= Person (\"Pak Anton\", 45)\n",
        "  print(\"-\"*20)\n",
        "  dosen.perkenalan_diri() #panggil metode dari kelas Person\n",
        "\n",
        "  print(\"\\n\" + \"=\" * 30 + \"\\n\")\n",
        "\n",
        "  #membuat objek student\n",
        "  mahasiswa = Student(\"Dewi\", 20, \"MHS001\", \"Teknik Komputer\")\n",
        "  print(\"-\"*20)\n",
        "  mahasiswa.perkenalan_diri() #panggil bersi override di Student\n",
        "  mahasiswa.info_akademik() #Panggil metode khusus Student\n",
        "\n",
        "  #Cek atribut yang diwarisi\n",
        "  print(f\"\\nUsia mahasiswa {mahasiswa.nama}: {mahasiswa.usia}\") #usia diwarisi dari person"
      ],
      "metadata": {
        "id": "1aDot26agv3C",
        "outputId": "d7ffe948-ace4-41b2-f49c-73a8c101f21b",
        "colab": {
          "base_uri": "https://localhost:8080/"
        }
      },
      "execution_count": 2,
      "outputs": [
        {
          "output_type": "stream",
          "name": "stdout",
          "text": [
            "()Memanngil __init__ Person untuk ''Pak Anton\n",
            "--------------------\n",
            "Halo, nama saya Pak Anton, usia saya 45 tahun\n",
            "\n",
            "==============================\n",
            "\n",
            "Memanggil __init__ Student untuk 'Dewi' \n",
            "()Memanngil __init__ Person untuk ''Dewi\n",
            "(Inisialisasi atribut Student selesai untuk 'Dewi')\n",
            "--------------------\n",
            "Halo, nama saya Dewi, usia saya 20 tahun\n",
            "ID Mahasiswa: MHS001\n",
            "Jurusan: Teknik Komputer\n",
            "\n",
            "Usia mahasiswa Dewi: 20\n"
          ]
        }
      ]
    },
    {
      "cell_type": "markdown",
      "source": [
        "Praktikum 03"
      ],
      "metadata": {
        "id": "5vVAXTsGodkV"
      }
    },
    {
      "cell_type": "code",
      "source": [
        "#Kelas Induk\n",
        "class Hewan:\n",
        "    def __init__(self, nama):\n",
        "        self.nama = nama\n",
        "\n",
        "    def bersuara(self):\n",
        "        print(f\"Ini adalah hewan bernama {self.nama}.\")\n",
        "\n",
        "    def tampilkan_info(self):\n",
        "        print(f\"Ini adalah hewan bernama {self.nama}.\")\n",
        "\n",
        "#Kelas Anak\n",
        "class Kucing(Hewan):\n",
        "    def __init__(self, nama, ras):\n",
        "        super().__init__(nama) #Panggil init induk\n",
        "        self.ras = ras\n",
        "\n",
        "    #Method Overriding untuk bersuara\n",
        "    def bersuara(self):\n",
        "        print(f\"bersuara(self.nama) {Kucing} mengeong: Nyaaa!\")\n",
        "\n",
        "    #Method Overriding untuk tampilkan_info, memanggi versi induk\n",
        "    def tampilkan_info(self):\n",
        "        super().tampilkan_info() #Panggil implementasi dari Hewan\n",
        "        print(f\"Ini adalah kucing ras {self.ras}.\") #Tambahkan info\n",
        "\n",
        "\n",
        "# --- Kode Utama ---\n",
        "if __name__ == \"__main__\":\n",
        "    hewan_umum = Hewan (\"Makhluk\")\n",
        "    kucing_persia = Kucing (\"Puspus\", \"Persia\")\n",
        "\n",
        "    print(\"Info Hewan Umum:\")\n",
        "    hewan_umum.tampilkan_info()\n",
        "    hewan_umum.bersuara()\n",
        "    print(\"-\"*20)\n",
        "\n",
        "\n",
        "    print(\"Info Kucing Persia:\")\n",
        "    kucing_persia.tampilkan_info() #akan memanggil versi kucing\n",
        "    kucing_persia.bersuara() #akan memanggil versi kucing"
      ],
      "metadata": {
        "id": "qRG77NbCoew4",
        "outputId": "0acc6ff3-f416-4bf5-9e1a-db23d7a49334",
        "colab": {
          "base_uri": "https://localhost:8080/"
        }
      },
      "execution_count": 3,
      "outputs": [
        {
          "output_type": "stream",
          "name": "stdout",
          "text": [
            "Info Hewan Umum:\n",
            "Ini adalah hewan bernama Makhluk.\n",
            "Ini adalah hewan bernama Makhluk.\n",
            "--------------------\n",
            "Info Kucing Persia:\n",
            "Ini adalah hewan bernama Puspus.\n",
            "Ini adalah kucing ras Persia.\n",
            "bersuara(self.nama) <class '__main__.Kucing'> mengeong: Nyaaa!\n"
          ]
        }
      ]
    },
    {
      "cell_type": "markdown",
      "source": [
        "Praktikum 04"
      ],
      "metadata": {
        "id": "LfcPws6IuHRz"
      }
    },
    {
      "cell_type": "code",
      "source": [
        "#Kelas Induk Level 1\n",
        "class Organisme:\n",
        "    def __init__(self, nama):\n",
        "        self.nama = nama\n",
        "    def tampilkan_nama(self):\n",
        "        print(f\"Nama Organisme: {self.nama}\") #fixed: Indented correctly\n",
        "\n",
        "    def bernapas(self):\n",
        "        print(f\"Organisme '{self.nama}' sedang bernapas.\") #fixed: Indented correctly\n",
        "\n",
        "#Kelas Anak Level 1 (mewarisi dari Organisme)\n",
        "class Hewan(Organisme):\n",
        "    def __init__(self, nama, jenis_makanan):\n",
        "        super().__init__(nama) #Panggil init Organisme\n",
        "        self.jenis_makanan = jenis_makanan\n",
        "        print(f\"Hewan '{self.nama}' adalah {self.jenis_makanan}.\")\n",
        "\n",
        "    def bergerak(self):\n",
        "        print(f\"{self.nama} sedang bergerak.\")\n",
        "\n",
        "\n",
        "#Kelas Anak Level 2 (mewarisi dari hewan)\n",
        "class Mamalia(Hewan):\n",
        "    def __init__(self, nama, jenis_makanan, jumlah_kaki):\n",
        "        super().__init__(nama, jenis_makanan) #Panggil init hewan\n",
        "        self.jumlah_kaki = jumlah_kaki\n",
        "        print(f\"Mamalia '{self.nama}' memiliki {self.jumlah_kaki} kaki.\")\n",
        "\n",
        "    def menyusui(self):\n",
        "        print(f\"{self.nama} sedang menyusui.\")\n",
        "\n",
        "# --- Kode Utama ---\n",
        "if __name__ == \"__main__\":\n",
        "    kucing = Mamalia(\"Kucing Persia\", \"Kanivora\", 4)\n",
        "    print(\"-\" * 20)\n",
        "\n",
        "    # memanggil metode dari kelas mamalia\n",
        "    kucing.menyusui()\n",
        "\n",
        "    # memanggil metode yang diwarisi dari kelas Hewan\n",
        "    kucing.bergerak()\n",
        "    print(f\"Jenis makanan: (kucing.jenis_makanan)\")\n",
        "\n",
        "    # memanggil metode yanf diwarisi dari kelas Organisme\n",
        "    kucing.bernapas()\n",
        "    print(f\"Nama organisme: {kucing.nama}\")"
      ],
      "metadata": {
        "id": "CNT4zwS_uIZp",
        "outputId": "abaed06b-2182-432a-c7be-4b567ec31cfb",
        "colab": {
          "base_uri": "https://localhost:8080/"
        }
      },
      "execution_count": 4,
      "outputs": [
        {
          "output_type": "stream",
          "name": "stdout",
          "text": [
            "Hewan 'Kucing Persia' adalah Kanivora.\n",
            "Mamalia 'Kucing Persia' memiliki 4 kaki.\n",
            "--------------------\n",
            "Kucing Persia sedang menyusui.\n",
            "Kucing Persia sedang bergerak.\n",
            "Jenis makanan: (kucing.jenis_makanan)\n",
            "Organisme 'Kucing Persia' sedang bernapas.\n",
            "Nama organisme: Kucing Persia\n"
          ]
        }
      ]
    },
    {
      "cell_type": "markdown",
      "source": [
        "Praktikum 05"
      ],
      "metadata": {
        "id": "DlqEYBkZ0XJw"
      }
    },
    {
      "cell_type": "code",
      "source": [
        "!apt-get install -y locales\n",
        "!locale-gen id_ID.UTF-8\n",
        "!update-locale"
      ],
      "metadata": {
        "colab": {
          "base_uri": "https://localhost:8080/"
        },
        "id": "wAvYJ_Ta0YL-",
        "outputId": "2aa38643-30a2-4573-9cd3-59be4fc089d7"
      },
      "execution_count": 5,
      "outputs": [
        {
          "output_type": "stream",
          "name": "stdout",
          "text": [
            "Reading package lists... Done\n",
            "Building dependency tree... Done\n",
            "Reading state information... Done\n",
            "locales is already the newest version (2.35-0ubuntu3.9).\n",
            "0 upgraded, 0 newly installed, 0 to remove and 34 not upgraded.\n",
            "Generating locales (this might take a while)...\n",
            "  id_ID.UTF-8... done\n",
            "Generation complete.\n"
          ]
        }
      ]
    },
    {
      "cell_type": "code",
      "source": [
        "import locale\n",
        "\n",
        "try:\n",
        "  locale.setlocale(locale.LC_ALL, 'id_ID.UTF-8') #mencoba menyetel locale ke id_UTF-8\n",
        "except locale.Error: #Fixed: Removed the dot after 'except'\n",
        "  #mencoba locale alternatif jika id_ID>UTF-8 tidak tersedia\n",
        "  try :\n",
        "    locale.setlocale(locale.LC_ALL, 'id_ID')\n",
        "  except locale.Error: #Fixed: Removed the dot after 'except'\n",
        "    #jika locale alternatif juga gagal, gunakan locale default dan tampilkan peringatan seperti berikut\n",
        "    print(\"Locale 'id_ID.UTF-8' dan 'id_ID' tidak tersedia. Menggunakan locale default.\")\n",
        "\n",
        "#fungsi helper untuk format mata uang\n",
        "def format_rupiah(angka): #Fixed: Renamed function to format_rupiah\n",
        "  return locale.currency(angka, grouping=True, symbol='Rp') #Fixed: Removed the dot before locale and used locale.currency\n",
        "\n",
        "#Kelas Induk\n",
        "class Pegawai:\n",
        "  def __init__(self, nama, id_pegawai, gaji_pokok):\n",
        "    self.nama = nama #Fixed: Added self.nama to store the name\n",
        "    self.id_pegawai = id_pegawai\n",
        "    self.gaji_pokok = gaji_pokok\n",
        "\n",
        "  def hitung_gaji(self):\n",
        "    #Gaji dasar, bisa di override\n",
        "    return self.gaji_pokok\n",
        "\n",
        "  def tampilkan_info(self):\n",
        "    print(f\"ID: {self.id_pegawai}, Nama: {self.nama}\") #Fixed: Changed slef to self\n",
        "    print(f\"Gaji Pokok: {format_rupiah(self.gaji_pokok)}\")\n",
        "\n",
        "#Kelas Anak 1\n",
        "class Manager(Pegawai):\n",
        "  def __init__(self, nama, id_pegawai, gaji_pokok, tunjangan_jabatan):\n",
        "    super().__init__(nama, id_pegawai, gaji_pokok)\n",
        "    self.tunjangan_jabatan = tunjangan_jabatan\n",
        "\n",
        "  #override hitung gaji\n",
        "  def hitung_gaji(self): #Fixed: Corrected function name to hitung_gaji\n",
        "    gaji_total = super().hitung_gaji() + self.tunjangan_jabatan\n",
        "    return gaji_total\n",
        "  #override tampilkan_info (memanggil versi induk)\n",
        "  def tampilkan_info(self):\n",
        "    print(\"Info Manager:\")\n",
        "    super().tampilkan_info()\n",
        "    print(f\"Tunjangan Jabatan: {format_rupiah(self.tunjangan_jabatan)}\")\n",
        "    print(f\"Total Gaji: {format_rupiah(self.hitung_gaji())}\")\n",
        "\n",
        "#Kelas Anak 2\n",
        "class StaffTeknis(Pegawai):\n",
        "  def __init__(self, nama, id_pegawai, gaji_pokok, keahlian, bonus_keahlian):\n",
        "    super().__init__(nama, id_pegawai, gaji_pokok)\n",
        "    self.keahlian = keahlian\n",
        "    self.bonus_keahlian = bonus_keahlian\n",
        "\n",
        "  #Override hitung gaji\n",
        "  def hitung_gaji(self):\n",
        "    gaji_total = super().hitung_gaji() + self.bonus_keahlian\n",
        "    return gaji_total\n",
        "  #Override tampilkan_info (memanggil versi induk)\n",
        "  def tampilkan_info(self):\n",
        "    print(\"Info Staff Teknis:\")\n",
        "    super().tampilkan_info()\n",
        "    print(f\"Keahlian: {self.keahlian}\")\n",
        "    print(f\"Bonus Keahlian: {format_rupiah(self.bonus_keahlian)}\")\n",
        "    print(f\"Total Gaji: {format_rupiah(self.hitung_gaji())}\")\n",
        "\n",
        "# --- Kode Utama ---\n",
        "if __name__ == \"__main__\":\n",
        "  manager1 = Manager(\"Pak Budi Speed\", \"M001\", 10000000, 500000)\n",
        "  staf1 = StaffTeknis(\"Citra\", \"S001\", 7000000, \"Python Programming\", 1500000)\n",
        "  pegawai_baru = Pegawai (\"Ryan Hotzod\", \"P005\", 5000000) #Pegawai Biasa\n",
        "\n",
        "  print(\"Menampilkan Info Pegawai:\")\n",
        "  manager1.tampilkan_info()\n",
        "  print(\"-\"*30)\n",
        "  staf1.tampilkan_info()\n",
        "  print(\"-\"*30)\n",
        "\n",
        "  print(\"Info Pegawai Baru:\")\n",
        "  pegawai_baru.tampilkan_info()\n",
        "  print(f\"Total Gaji: {format_rupiah(pegawai_baru.hitung_gaji())}\")\n",
        "  print(\"-\"*30)"
      ],
      "metadata": {
        "colab": {
          "base_uri": "https://localhost:8080/"
        },
        "id": "EE1gwTIn0o-U",
        "outputId": "ef7db4c3-7204-4b35-cbf0-8493c8efceb8"
      },
      "execution_count": 16,
      "outputs": [
        {
          "output_type": "stream",
          "name": "stdout",
          "text": [
            "Menampilkan Info Pegawai:\n",
            "Info Manager:\n",
            "ID: M001, Nama: Pak Budi Speed\n",
            "Gaji Pokok: Rp10.000.000,00\n",
            "Tunjangan Jabatan: Rp500.000,00\n",
            "Total Gaji: Rp10.500.000,00\n",
            "------------------------------\n",
            "Info Staff Teknis:\n",
            "ID: S001, Nama: Citra\n",
            "Gaji Pokok: Rp7.000.000,00\n",
            "Keahlian: Python Programming\n",
            "Bonus Keahlian: Rp1.500.000,00\n",
            "Total Gaji: Rp8.500.000,00\n",
            "------------------------------\n",
            "Info Pegawai Baru:\n",
            "ID: P005, Nama: Ryan Hotzod\n",
            "Gaji Pokok: Rp5.000.000,00\n",
            "Total Gaji: Rp5.000.000,00\n",
            "------------------------------\n"
          ]
        }
      ]
    },
    {
      "cell_type": "markdown",
      "source": [
        "Praktikum 06"
      ],
      "metadata": {
        "id": "zaWPfr6cCwfG"
      }
    },
    {
      "cell_type": "code",
      "source": [
        "class BentukGeometri:\n",
        "  def __init__(self, nama_bentuk):\n",
        "    self.nama = nama_bentuk\n",
        "  def tampilkan_nama(self): # Fixed: Corrected indentation\n",
        "    print(f\"Ini adalah bentuk: {self.nama}\")\n",
        "  def hitung_luas(self): # Fixed: Corrected indentation\n",
        "    print(f\"Luas {self.nama} tidak dapat dihitung (generik)\")\n",
        "\n",
        "class PersegiPanjang(BentukGeometri):\n",
        "  def __init__(self, panjang, lebar): # Fixed: Removed unnecessary 'warna' parameter\n",
        "    super().__init__(\"Persegi Panjang\") # Fixed: Directly passed the name\n",
        "    self.panjang = panjang\n",
        "    self.lebar = lebar\n",
        "  def hitung_luas(self):\n",
        "    luas = self.panjang * self.lebar\n",
        "    print(f\"Luas Persegi Panjang: {luas}\")\n",
        "\n",
        "class Segitiga(BentukGeometri):\n",
        "  def __init__(self, alas, tinggi): # Fixed: Removed unnecessary 'warna' parameter\n",
        "    super().__init__(\"Segitiga\") # Fixed: Directly passed the name\n",
        "    self.alas = alas\n",
        "    self.tinggi = tinggi\n",
        "  def hitung_luas(self):\n",
        "    luas = 0.5 * self.alas * self.tinggi # Fixed: Used 0.5 and correct attributes\n",
        "    print (f\"Luas Segitiga: {luas}\")\n",
        "\n",
        "def proses_bentuk(bentuk):\n",
        "  print(f\"\\nProses Objek: {type(bentuk)}\")\n",
        "\n",
        "  if isinstance(bentuk, BentukGeometri):\n",
        "    bentuk.tampilkan_nama()\n",
        "    print(\"objek ini adalah instance dari BentukGeometri (atau turunannya).\")\n",
        "\n",
        "  if isinstance(bentuk, PersegiPanjang):\n",
        "    print(\"objek ini adalah instance dari PersegiPanjang.\")\n",
        "  elif isinstance(bentuk, Segitiga):\n",
        "    print(\"objek ini juga instance dari Segitiga.\")\n",
        "  else:\n",
        "    print(\"objek ini bukan instance dari BentukGeometri.\")\n",
        "\n",
        "  if isinstance(bentuk, Segitiga):\n",
        "    print(\"objek ini adalah instance dari Segitiga.\")\n",
        "\n",
        "#--- kode utama ---\n",
        "if __name__ == \"__main__\":\n",
        "  pp = PersegiPanjang(4, 3)\n",
        "  seg = Segitiga(5,2)\n",
        "  bg = BentukGeometri(\"Lingkaran\") # Contoh lain\n",
        "  teks = \"Ini string\"\n",
        "\n",
        "  daftar_objek = [pp, seg, bg, teks] # Fixed: Defined daftar_objek\n",
        "\n",
        "  for obj in daftar_objek:\n",
        "    proses_bentuk(obj)"
      ],
      "metadata": {
        "id": "NyL5kSmNC4EI",
        "outputId": "d8df6889-d4ca-4c91-b0f1-b25d4e17a328",
        "colab": {
          "base_uri": "https://localhost:8080/"
        }
      },
      "execution_count": 19,
      "outputs": [
        {
          "output_type": "stream",
          "name": "stdout",
          "text": [
            "\n",
            "Proses Objek: <class '__main__.PersegiPanjang'>\n",
            "Ini adalah bentuk: Persegi Panjang\n",
            "objek ini adalah instance dari BentukGeometri (atau turunannya).\n",
            "objek ini adalah instance dari PersegiPanjang.\n",
            "\n",
            "Proses Objek: <class '__main__.Segitiga'>\n",
            "Ini adalah bentuk: Segitiga\n",
            "objek ini adalah instance dari BentukGeometri (atau turunannya).\n",
            "objek ini juga instance dari Segitiga.\n",
            "objek ini adalah instance dari Segitiga.\n",
            "\n",
            "Proses Objek: <class '__main__.BentukGeometri'>\n",
            "Ini adalah bentuk: Lingkaran\n",
            "objek ini adalah instance dari BentukGeometri (atau turunannya).\n",
            "objek ini bukan instance dari BentukGeometri.\n",
            "\n",
            "Proses Objek: <class 'str'>\n",
            "objek ini bukan instance dari BentukGeometri.\n"
          ]
        }
      ]
    }
  ]
}