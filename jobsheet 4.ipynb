{
  "nbformat": 4,
  "nbformat_minor": 0,
  "metadata": {
    "colab": {
      "provenance": [],
      "authorship_tag": "ABX9TyO7z8zI9udQUVpBpUmVrWWV",
      "include_colab_link": true
    },
    "kernelspec": {
      "name": "python3",
      "display_name": "Python 3"
    },
    "language_info": {
      "name": "python"
    }
  },
  "cells": [
    {
      "cell_type": "markdown",
      "metadata": {
        "id": "view-in-github",
        "colab_type": "text"
      },
      "source": [
        "<a href=\"https://colab.research.google.com/github/Zuuru/2025_PBO_TI1C/blob/main/jobsheet%204.ipynb\" target=\"_parent\"><img src=\"https://colab.research.google.com/assets/colab-badge.svg\" alt=\"Open In Colab\"/></a>"
      ]
    },
    {
      "cell_type": "markdown",
      "source": [
        "Praktikum 01"
      ],
      "metadata": {
        "id": "QETqRLoGbcxY"
      }
    },
    {
      "cell_type": "code",
      "execution_count": 12,
      "metadata": {
        "id": "kZOhMMUhWhDy",
        "outputId": "ff26999e-8727-42f3-bbaf-62b5a471f152",
        "colab": {
          "base_uri": "https://localhost:8080/"
        }
      },
      "outputs": [
        {
          "output_type": "stream",
          "name": "stdout",
          "text": [
            "Ini adalah Mobil (self.merk) bewarna (self.warna)\n",
            "Mesin kendaraan Tesla Model S dinyalakan.\n",
            "Merk Mobil Tesla: Tesla Model S\n"
          ]
        }
      ],
      "source": [
        "#kelas induk\n",
        "class Kendaraan:\n",
        "  def __init__(self, merk):\n",
        "      self.merk = merk\n",
        "  def mulai_mesin(self):\n",
        "      print(f\"Mesin kendaraan {self.merk} dinyalakan.\")\n",
        "\n",
        "#Kelas Anak (mewarisi dari kendaraan)\n",
        "class Mobil(Kendaraan):\n",
        "  def __init__(self, merk, warna):\n",
        "    # Memanggil _init_kelas induk\n",
        "    self.merk = merk #mewarisi 'merk' tetapi di-set ulang\n",
        "    self.warna = warna #atriubut khusus mobil\n",
        "  def info_mobil(self):\n",
        "    print(f\"Ini adalah Mobil (self.merk) bewarna (self.warna)\")\n",
        "\n",
        "#----Kode utama ----\n",
        "if __name__ == \"__main__\":\n",
        "  mobil_tesla = Mobil (\"Tesla Model S\", \"Merah\")\n",
        "\n",
        "  #memanggil metode yang diwarisi dari anak\n",
        "  mobil_tesla.info_mobil()\n",
        "\n",
        "  #memanggil metode yang diwarisi dari kelas induk\n",
        "  mobil_tesla.mulai_mesin()\n",
        "  #mengakses atribut yang diwarisi (dan di set di anak)\n",
        "  print(f\"Merk Mobil Tesla: {mobil_tesla.merk}\")\n"
      ]
    },
    {
      "cell_type": "markdown",
      "source": [
        "Praktikum 02"
      ],
      "metadata": {
        "id": "AWvyo9OAhHhx"
      }
    },
    {
      "cell_type": "code",
      "source": [
        "#Kelas induk\n",
        "class Person:\n",
        "  def __init__(self, nama, usia):\n",
        "    print(f\"()Memanngil __init__ Person untuk ''{nama}\")\n",
        "    self.nama = nama\n",
        "    self.usia = usia\n",
        "\n",
        "  def perkenalan_diri(self):\n",
        "    print(f\"Halo, nama saya {self.nama}, usia saya {self.usia} tahun\")\n",
        "\n",
        "#Kelas Anak (mewarisi dari Person)\n",
        "class Student(Person):\n",
        "  def __init__(self, nama, usia, student_id, jurusan):\n",
        "    print(f\"Memanggil __init__ Student untuk '{nama}' \")\n",
        "    #Memanggil __init__ dari kelas Person untuk inisialisasi nama dan usi\n",
        "    super().__init__(nama, usia)\n",
        "    #Menambahkan atribut khusus Student\n",
        "    self.student_id = student_id\n",
        "    self.jurusan = jurusan\n",
        "    print(f\"(Inisialisasi atribut Student selesai untuk '{nama}')\")\n",
        "  def info_akademik(self):\n",
        "    print(f\"ID Mahasiswa: {self.student_id}\")\n",
        "    print(f\"Jurusan: {self.jurusan}\")\n",
        "\n",
        "#Override perkenalan diri untuk menambahkan info student\n",
        "def perkenalkan_diri(self):\n",
        "  super().perkenalan_diri()\n",
        "  print(f\"Saya adalah mahasiswa dengan ID {self.student_id}, jurusan {self.jurusan}.\")\n",
        "\n",
        "# --- Kode Utama ---\n",
        "if __name__ == \"__main__\":\n",
        "  #membuat objek person\n",
        "  dosen= Person (\"Pak Anton\", 45)\n",
        "  print(\"-\"*20)\n",
        "  dosen.perkenalan_diri() #panggil metode dari kelas Person\n",
        "\n",
        "  print(\"\\n\" + \"=\" * 30 + \"\\n\")\n",
        "\n",
        "  #membuat objek student\n",
        "  mahasiswa = Student(\"Dewi\", 20, \"MHS001\", \"Teknik Komputer\")\n",
        "  print(\"-\"*20)\n",
        "  mahasiswa.perkenalan_diri() #panggil bersi override di Student\n",
        "  mahasiswa.info_akademik() #Panggil metode khusus Student\n",
        "\n",
        "  #Cek atribut yang diwarisi\n",
        "  print(f\"\\nUsia mahasiswa {mahasiswa.nama}: {mahasiswa.usia}\") #usia diwarisi dari person"
      ],
      "metadata": {
        "id": "1aDot26agv3C",
        "outputId": "7da0206c-9378-497e-884e-1f2f20b92dbb",
        "colab": {
          "base_uri": "https://localhost:8080/"
        }
      },
      "execution_count": 17,
      "outputs": [
        {
          "output_type": "stream",
          "name": "stdout",
          "text": [
            "()Memanngil __init__ Person untuk ''Pak Anton\n",
            "--------------------\n",
            "Halo, nama saya Pak Anton, usia saya 45 tahun\n",
            "\n",
            "==============================\n",
            "\n",
            "Memanggil __init__ Student untuk 'Dewi' \n",
            "()Memanngil __init__ Person untuk ''Dewi\n",
            "(Inisialisasi atribut Student selesai untuk 'Dewi')\n",
            "--------------------\n",
            "Halo, nama saya Dewi, usia saya 20 tahun\n",
            "ID Mahasiswa: MHS001\n",
            "Jurusan: Teknik Komputer\n",
            "\n",
            "Usia mahasiswa Dewi: 20\n"
          ]
        }
      ]
    },
    {
      "cell_type": "markdown",
      "source": [
        "Praktikum 03"
      ],
      "metadata": {
        "id": "5vVAXTsGodkV"
      }
    },
    {
      "cell_type": "code",
      "source": [
        "#Kelas Induk\n",
        "class Hewan:\n",
        "    def __init__(self, nama):\n",
        "        self.nama = nama\n",
        "\n",
        "    def bersuara(self):\n",
        "        print(f\"Ini adalah hewan bernama {self.nama}.\")\n",
        "\n",
        "    def tampilkan_info(self):\n",
        "        print(f\"Ini adalah hewan bernama {self.nama}.\")\n",
        "\n",
        "#Kelas Anak\n",
        "class Kucing(Hewan):\n",
        "    def __init__(self, nama, ras):\n",
        "        super().__init__(nama) #Panggil init induk\n",
        "        self.ras = ras\n",
        "\n",
        "    #Method Overriding untuk bersuara\n",
        "    def bersuara(self):\n",
        "        print(f\"bersuara(self.nama) {Kucing} mengeong: Nyaaa!\")\n",
        "\n",
        "    #Method Overriding untuk tampilkan_info, memanggi versi induk\n",
        "    def tampilkan_info(self):\n",
        "        super().tampilkan_info() #Panggil implementasi dari Hewan\n",
        "        print(f\"Ini adalah kucing ras {self.ras}.\") #Tambahkan info\n",
        "\n",
        "\n",
        "# --- Kode Utama ---\n",
        "if __name__ == \"__main__\":\n",
        "    hewan_umum = Hewan (\"Makhluk\")\n",
        "    kucing_persia = Kucing (\"Puspus\", \"Persia\")\n",
        "\n",
        "    print(\"Info Hewan Umum:\")\n",
        "    hewan_umum.tampilkan_info()\n",
        "    hewan_umum.bersuara()\n",
        "    print(\"-\"*20)\n",
        "\n",
        "\n",
        "    print(\"Info Kucing Persia:\")\n",
        "    kucing_persia.tampilkan_info() #akan memanggil versi kucing\n",
        "    kucing_persia.bersuara() #akan memanggil versi kucing"
      ],
      "metadata": {
        "id": "qRG77NbCoew4",
        "outputId": "d60a56f2-180f-4646-b575-5e1d0d4ff636",
        "colab": {
          "base_uri": "https://localhost:8080/"
        }
      },
      "execution_count": 21,
      "outputs": [
        {
          "output_type": "stream",
          "name": "stdout",
          "text": [
            "Info Hewan Umum:\n",
            "Ini adalah hewan bernama Makhluk.\n",
            "Ini adalah hewan bernama Makhluk.\n",
            "--------------------\n",
            "Info Kucing Persia:\n",
            "Ini adalah hewan bernama Puspus.\n",
            "Ini adalah kucing ras Persia.\n",
            "bersuara(self.nama) <class '__main__.Kucing'> mengeong: Nyaaa!\n"
          ]
        }
      ]
    },
    {
      "cell_type": "markdown",
      "source": [
        "Praktikum 04"
      ],
      "metadata": {
        "id": "LfcPws6IuHRz"
      }
    },
    {
      "cell_type": "code",
      "source": [
        "#Kelas Induk Level 1\n",
        "class Organisme:\n",
        "    def __init__(self, nama):\n",
        "        self.nama = nama\n",
        "    def tampilkan_nama(self):\n",
        "        print(f\"Nama Organisme: {self.nama}\") #fixed: Indented correctly\n",
        "\n",
        "    def bernapas(self):\n",
        "        print(f\"Organisme '{self.nama}' sedang bernapas.\") #fixed: Indented correctly\n",
        "\n",
        "#Kelas Anak Level 1 (mewarisi dari Organisme)\n",
        "class Hewan(Organisme):\n",
        "    def __init__(self, nama, jenis_makanan):\n",
        "        super().__init__(nama) #Panggil init Organisme\n",
        "        self.jenis_makanan = jenis_makanan\n",
        "        print(f\"Hewan '{self.nama}' adalah {self.jenis_makanan}.\")\n",
        "\n",
        "    def bergerak(self):\n",
        "        print(f\"{self.nama} sedang bergerak.\")\n",
        "\n",
        "\n",
        "#Kelas Anak Level 2 (mewarisi dari hewan)\n",
        "class Mamalia(Hewan):\n",
        "    def __init__(self, nama, jenis_makanan, jumlah_kaki):\n",
        "        super().__init__(nama, jenis_makanan) #Panggil init hewan\n",
        "        self.jumlah_kaki = jumlah_kaki\n",
        "        print(f\"Mamalia '{self.nama}' memiliki {self.jumlah_kaki} kaki.\")\n",
        "\n",
        "    def menyusui(self):\n",
        "        print(f\"{self.nama} sedang menyusui.\")\n",
        "\n",
        "# --- Kode Utama ---\n",
        "if __name__ == \"__main__\":\n",
        "    kucing = Mamalia(\"Kucing Persia\", \"Kanivora\", 4)\n",
        "    print(\"-\" * 20)\n",
        "\n",
        "    # memanggil metode dari kelas mamalia\n",
        "    kucing.menyusui()\n",
        "\n",
        "    # memanggil metode yang diwarisi dari kelas Hewan\n",
        "    kucing.bergerak()\n",
        "    print(f\"Jenis makanan: (kucing.jenis_makanan)\")\n",
        "\n",
        "    # memanggil metode yanf diwarisi dari kelas Organisme\n",
        "    kucing.bernapas()\n",
        "    print(f\"Nama organisme: {kucing.nama}\")"
      ],
      "metadata": {
        "id": "CNT4zwS_uIZp",
        "outputId": "015426d8-1b30-4f6d-9d49-dd300ec0ec7d",
        "colab": {
          "base_uri": "https://localhost:8080/"
        }
      },
      "execution_count": 32,
      "outputs": [
        {
          "output_type": "stream",
          "name": "stdout",
          "text": [
            "Hewan 'Kucing Persia' adalah Kanivora.\n",
            "Mamalia 'Kucing Persia' memiliki 4 kaki.\n",
            "--------------------\n",
            "Kucing Persia sedang menyusui.\n",
            "Kucing Persia sedang bergerak.\n",
            "Jenis makanan: (kucing.jenis_makanan)\n",
            "Organisme 'Kucing Persia' sedang bernapas.\n",
            "Nama organisme: Kucing Persia\n"
          ]
        }
      ]
    },
    {
      "cell_type": "code",
      "source": [],
      "metadata": {
        "id": "splChzDSwz3A"
      },
      "execution_count": null,
      "outputs": []
    }
  ]
}