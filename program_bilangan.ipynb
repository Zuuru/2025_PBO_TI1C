{
  "nbformat": 4,
  "nbformat_minor": 0,
  "metadata": {
    "colab": {
      "provenance": [],
      "authorship_tag": "ABX9TyMuRwN6vBbEDsmNfnhq2nOi",
      "include_colab_link": true
    },
    "kernelspec": {
      "name": "python3",
      "display_name": "Python 3"
    },
    "language_info": {
      "name": "python"
    }
  },
  "cells": [
    {
      "cell_type": "markdown",
      "metadata": {
        "id": "view-in-github",
        "colab_type": "text"
      },
      "source": [
        "<a href=\"https://colab.research.google.com/github/Zuuru/2025_PBO_TI1C/blob/main/program_bilangan.ipynb\" target=\"_parent\"><img src=\"https://colab.research.google.com/assets/colab-badge.svg\" alt=\"Open In Colab\"/></a>"
      ]
    },
    {
      "cell_type": "code",
      "execution_count": 2,
      "metadata": {
        "colab": {
          "base_uri": "https://localhost:8080/"
        },
        "id": "66aKxsIgtu8A",
        "outputId": "604ddbf9-67d2-4df5-a910-93691a3dafd6"
      },
      "outputs": [
        {
          "output_type": "stream",
          "name": "stdout",
          "text": [
            "Masukkan bilangan: 2\n",
            "2 adalah bilangan Genap\n",
            "2 juga merupakan bilangan Prima\n"
          ]
        }
      ],
      "source": [
        "def is_prime(n):\n",
        "    if n < 2:\n",
        "        return False\n",
        "    for i in range(2, int(n ** 0.5) + 1):\n",
        "        if n % i == 0:\n",
        "            return False\n",
        "    return True\n",
        "\n",
        "def check_number(n):\n",
        "    if n % 2 == 0:\n",
        "        print(f\"{n} adalah bilangan Genap\")\n",
        "    else:\n",
        "        print(f\"{n} adalah bilangan Ganjil\")\n",
        "\n",
        "    if is_prime(n):\n",
        "        print(f\"{n} juga merupakan bilangan Prima\")\n",
        "\n",
        "# Input\n",
        "num = int(input(\"Masukkan bilangan: \"))\n",
        "check_number(num)\n"
      ]
    }
  ]
}